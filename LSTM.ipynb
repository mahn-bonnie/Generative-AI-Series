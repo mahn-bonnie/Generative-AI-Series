{
  "cells": [
    {
      "cell_type": "markdown",
      "metadata": {
        "id": "view-in-github",
        "colab_type": "text"
      },
      "source": [
        "<a href=\"https://colab.research.google.com/github/mahn-bonnie/Generative-AI-Series/blob/main/LSTM.ipynb\" target=\"_parent\"><img src=\"https://colab.research.google.com/assets/colab-badge.svg\" alt=\"Open In Colab\"/></a>"
      ]
    },
    {
      "cell_type": "markdown",
      "metadata": {
        "id": "zHwxejnSVBl7"
      },
      "source": [
        "\n",
        "\n",
        "**Text Generation using Recurrent Long Short Term Memory Network**"
      ]
    },
    {
      "cell_type": "code",
      "execution_count": 11,
      "metadata": {
        "id": "7E9nsug8VHw1"
      },
      "outputs": [],
      "source": [
        "#The conceptual procedure of training the network is to first feed the network a mapping of each\n",
        "#character present in the text on which the network is training to a unique number.\n",
        "#Each character is then hot-encoded into a vector which is the required format for the network."
      ]
    },
    {
      "cell_type": "markdown",
      "metadata": {
        "id": "T02oAd0CVjzt"
      },
      "source": [
        "**Step 1: Importing the required libraries**"
      ]
    },
    {
      "cell_type": "code",
      "execution_count": 12,
      "metadata": {
        "id": "V8cCVTUaVYWq"
      },
      "outputs": [],
      "source": [
        "from __future__ import absolute_import, division, print_function, unicode_literals\n",
        "\n",
        "import numpy as np\n",
        "import tensorflow as tf\n",
        "\n",
        "from keras.models import Sequential\n",
        "from keras.layers import Dense, Activation\n",
        "from keras.layers import LSTM\n",
        "\n",
        "from keras.optimizers import RMSprop\n",
        "\n",
        "from keras.callbacks import LambdaCallback\n",
        "from keras.callbacks import ModelCheckpoint\n",
        "from keras.callbacks import ReduceLROnPlateau\n",
        "import random\n",
        "import sys"
      ]
    },
    {
      "cell_type": "markdown",
      "metadata": {
        "id": "gYvW3MSTWyds"
      },
      "source": [
        "**Step 2: Loading the data into a string**"
      ]
    },
    {
      "cell_type": "code",
      "execution_count": 13,
      "metadata": {
        "colab": {
          "base_uri": "https://localhost:8080/"
        },
        "id": "Kh7mdsL7W1SA",
        "outputId": "614e738f-6f12-4fa0-994d-b19bae2099f5"
      },
      "outputs": [
        {
          "output_type": "stream",
          "name": "stdout",
          "text": [
            "﻿Adam Ferguson sensed the moment was right: \"Everyone was simply waiting but there was an air of suspense, too, with people lo oking off in different directions. I made the decision, on the spot, that this was going to be it.\" Spanning four complete pages inside Sunday's special section, \"The Road to Nowhere,\" is a single photograph, shot by Mr. Fergus on, depicting about 100 people waiting in line at a food distribution center outside Diffa, Niger. Each of the picture's subjec ts had fled from a series of horrors, landing in one of the many makeshift settlements scattered alongside National Route 1, a stretch of truncated highway that is now one of the only places in the region to offer refuge from the terrorist group Boko Har am. How did the 47-by-20-inch photograph, one of the largest if not the largest images ever published in The New York Times, co me together? \"With great difficulty, is the short answer,\" Mr. Ferguson said. The Australian photographer was sent to Niger's Route 1 with a specific assignment: Capture a photograph that could be used in a special layout called a \"pano-8\" which, as readers of Sunday's paper will see, unfolds to showcase a four-page spread. (The Times has employed the layout on only three previous occasions for journalistic projects.) Makini Schools 100 BCLB number: The aim was to use a large annotated photograph both to convey the scale of the crisis and to humanize those in its grip. \"By attaching names, ages, locations and personal stories and details, we hope a reader can really start to connect with those people beyond a one-line caption that would normally accompany an image,\" said Larry Buchanan, a graphics editor at The Times w ho, along with David Furst, The Times's international photo editor, helped conceive and direct the project. \"Logistically, the assignment was an incredible challenge,\" Mr. Furst said. \"What Adam pulled off was a remarkable feat of jour nalism.\" In the end, it took two separate trips to Niger and almost two weeks on the ground before Mr. Ferguson captured an appropriatel y arresting image that also satisfied the compositional requirements: a scene showing a large crowd, with enough empty space at the top and bottom to display personal stories. But shooting the photograph was just the beginning. Mr. Ferguson then set to wo rk identifying the subjects and conducting interviews which, given the fleeting circumstances of the food line, proved staggeri ngly difficult.\n"
          ]
        }
      ],
      "source": [
        "\n",
        "# Reading the text file into a string\n",
        "with open('article1.txt', 'r') as file:\n",
        "\ttext = file.read()\n",
        "\n",
        "# A preview of the text file\n",
        "print(text)\n"
      ]
    },
    {
      "cell_type": "markdown",
      "metadata": {
        "id": "tfGzI4pwZeQ7"
      },
      "source": [
        "**Step 3: Creating a mapping from each unique character in the text to a unique number**"
      ]
    },
    {
      "cell_type": "code",
      "execution_count": 14,
      "metadata": {
        "colab": {
          "base_uri": "https://localhost:8080/"
        },
        "id": "g-Ow7nA1ZgAB",
        "outputId": "d8d2a461-dea2-4518-8aca-0b383d124051"
      },
      "outputs": [
        {
          "output_type": "stream",
          "name": "stdout",
          "text": [
            "[' ', '\"', \"'\", '(', ')', ',', '-', '.', '0', '1', '2', '4', '7', '8', ':', '?', 'A', 'B', 'C', 'D', 'E', 'F', 'H', 'I', 'L', 'M', 'N', 'R', 'S', 'T', 'W', 'Y', 'a', 'b', 'c', 'd', 'e', 'f', 'g', 'h', 'i', 'j', 'k', 'l', 'm', 'n', 'o', 'p', 'q', 'r', 's', 't', 'u', 'v', 'w', 'y', 'z', '\\ufeff']\n"
          ]
        }
      ],
      "source": [
        "\n",
        "# Storing all the unique characters present in the text\n",
        "vocabulary = sorted(list(set(text)))\n",
        "\n",
        "# Creating dictionaries to map each character to an index\n",
        "char_to_indices = dict((c, i) for i, c in enumerate(vocabulary))\n",
        "indices_to_char = dict((i, c) for i, c in enumerate(vocabulary))\n",
        "\n",
        "print(vocabulary)"
      ]
    },
    {
      "cell_type": "markdown",
      "metadata": {
        "id": "hf4ilfF5ZrkO"
      },
      "source": [
        "**Step 4: Pre-processing the data**"
      ]
    },
    {
      "cell_type": "code",
      "execution_count": 15,
      "metadata": {
        "id": "UfMnqWy4Zs6r"
      },
      "outputs": [],
      "source": [
        "import numpy as np\n",
        "\n",
        "# Dividing the text into subsequences of length max_length\n",
        "# So that at each time step the next max_length characters\n",
        "# are fed into the network\n",
        "max_length = 100\n",
        "steps = 5\n",
        "sentences = []\n",
        "next_chars = []\n",
        "for i in range(0, len(text) - max_length, steps):\n",
        "    sentences.append(text[i: i + max_length])\n",
        "    next_chars.append(text[i + max_length])\n",
        "\n",
        "# Hot encoding each character into a boolean vector\n",
        "X = np.zeros((len(sentences), max_length, len(vocabulary)), dtype = np.bool_)\n",
        "y = np.zeros((len(sentences), len(vocabulary)), dtype = np.bool_)\n",
        "for i, sentence in enumerate(sentences):\n",
        "    for t, char in enumerate(sentence):\n",
        "        X[i, t, char_to_indices[char]] = 1\n",
        "    y[i, char_to_indices[next_chars[i]]] = 1\n"
      ]
    },
    {
      "cell_type": "markdown",
      "metadata": {
        "id": "BUv0GJEraBqh"
      },
      "source": [
        "**Step 5: Building the LSTM network**"
      ]
    },
    {
      "cell_type": "code",
      "execution_count": 16,
      "metadata": {
        "id": "bf5IgyoMZwcb"
      },
      "outputs": [],
      "source": [
        "from tensorflow.keras.models import Sequential\n",
        "from tensorflow.keras.layers import LSTM, Dense, Activation\n",
        "from tensorflow.keras.optimizers import RMSprop\n",
        "\n",
        "# Building the LSTM network for the task\n",
        "model = Sequential()\n",
        "model.add(LSTM(128, input_shape=(max_length, len(vocabulary))))\n",
        "model.add(Dense(len(vocabulary)))\n",
        "model.add(Activation('softmax'))\n",
        "\n",
        "# Using learning_rate instead of lr\n",
        "optimizer = RMSprop(learning_rate=0.01)\n",
        "model.compile(loss='categorical_crossentropy', optimizer=optimizer)\n",
        "\n"
      ]
    },
    {
      "cell_type": "markdown",
      "metadata": {
        "id": "OGaew52CaVfm"
      },
      "source": [
        "**Step 6: Defining some helper functions which will be used during the training of the network**"
      ]
    },
    {
      "cell_type": "code",
      "execution_count": 17,
      "metadata": {
        "id": "Z796e7DLaFLo"
      },
      "outputs": [],
      "source": [
        "#a) Helper function to sample the next character:\n",
        "\n",
        "# Helper function to sample an index from a probability array\n",
        "def sample_index(preds, temperature = 1.0):\n",
        "\tpreds = np.asarray(preds).astype('float64')\n",
        "\tpreds = np.log(preds) / temperature\n",
        "\texp_preds = np.exp(preds)\n",
        "\tpreds = exp_preds / np.sum(exp_preds)\n",
        "\tprobas = np.random.multinomial(1, preds, 1)\n",
        "\treturn np.argmax(probas)\n",
        "\n",
        "#b) Helper function to generate text after each epoch\n",
        "\n",
        "# Helper function to generate text after the end of each epoch\n",
        "def on_epoch_end(epoch, logs):\n",
        "\tprint()\n",
        "\tprint('----- Generating text after Epoch: % d' % epoch)\n",
        "\n",
        "\tstart_index = random.randint(0, len(text) - max_length - 1)\n",
        "\tfor diversity in [0.2, 0.5, 1.0, 1.2]:\n",
        "\t\tprint('----- diversity:', diversity)\n",
        "\n",
        "\t\tgenerated = ''\n",
        "\t\tsentence = text[start_index: start_index + max_length]\n",
        "\t\tgenerated += sentence\n",
        "\t\tprint('----- Generating with seed: \"' + sentence + '\"')\n",
        "\t\tsys.stdout.write(generated)\n",
        "\n",
        "\t\tfor i in range(400):\n",
        "\t\t\tx_pred = np.zeros((1, max_length, len(vocabulary)))\n",
        "\t\t\tfor t, char in enumerate(sentence):\n",
        "\t\t\t\tx_pred[0, t, char_to_indices[char]] = 1.\n",
        "\n",
        "\t\t\tpreds = model.predict(x_pred, verbose = 0)[0]\n",
        "\t\t\tnext_index = sample_index(preds, diversity)\n",
        "\t\t\tnext_char = indices_to_char[next_index]\n",
        "\n",
        "\t\t\tgenerated += next_char\n",
        "\t\t\tsentence = sentence[1:] + next_char\n",
        "\n",
        "\t\t\tsys.stdout.write(next_char)\n",
        "\t\t\tsys.stdout.flush()\n",
        "\t\tprint()\n",
        "print_callback = LambdaCallback(on_epoch_end = on_epoch_end)\n"
      ]
    },
    {
      "cell_type": "code",
      "execution_count": 18,
      "metadata": {
        "id": "pzOQwe7Paaov"
      },
      "outputs": [],
      "source": [
        "from tensorflow.keras.callbacks import ModelCheckpoint, ReduceLROnPlateau, LambdaCallback\n",
        "import numpy as np\n",
        "import random\n",
        "import sys\n",
        "\n",
        "# c) Helper function to save the model after each epoch in which loss decreases\n",
        "\n",
        "# Defining a helper function to save the model after each epoch\n",
        "# in which the loss decreases\n",
        "filepath = \"weights_epoch_{epoch:02d}_loss_{loss:.4f}.keras\"\n",
        "checkpoint = ModelCheckpoint(filepath, monitor='loss',\n",
        "                             verbose=1, save_best_only=True,\n",
        "                             mode='min')\n",
        "\n",
        "# d) Helper function to reduce the learning rate each time the learning plateaus\n",
        "\n",
        "# Defining a helper function to reduce the learning rate each time\n",
        "# the learning plateaus\n",
        "reduce_alpha = ReduceLROnPlateau(monitor='loss', factor=0.2,\n",
        "                                 patience=1, min_lr=0.001)\n",
        "\n",
        "callbacks = [print_callback, checkpoint, reduce_alpha]\n"
      ]
    },
    {
      "cell_type": "markdown",
      "metadata": {
        "id": "T1GBq-L6cC6P"
      },
      "source": [
        "**Step 7: Training the LSTM model**"
      ]
    },
    {
      "cell_type": "code",
      "execution_count": 21,
      "metadata": {
        "colab": {
          "base_uri": "https://localhost:8080/"
        },
        "id": "-4WRNa6db_Mi",
        "outputId": "a9044699-9b25-48e8-f227-9f2e86a365a2"
      },
      "outputs": [
        {
          "output_type": "stream",
          "name": "stdout",
          "text": [
            "Epoch 1/20\n",
            "\u001b[1m1/4\u001b[0m \u001b[32m━━━━━\u001b[0m\u001b[37m━━━━━━━━━━━━━━━\u001b[0m \u001b[1m0s\u001b[0m 31ms/step - loss: 3.1631\n",
            "----- Generating text after Epoch:  0\n",
            "----- diversity: 0.2\n",
            "----- Generating with seed: \"ls, we hope a reader can really start to connect with those people beyond a one-line caption that wo\"\n",
            "ls, we hope a reader can really start to connect with those people beyond a one-line caption that wo   s ss  e  s   oos  s e s  s  stes   ss  r  s a         is as ss  e    r o     s s       s ls r     o   ssrs  s s  se   s       e s  s  s     s    e       r s  e    s    n os   o o o   s     s o    s r  e seoe   o os  s    s s  ss s   ao      s  s es ios    o t e   a      ss   o  i   eo s  s  o o  s o s e  s  o  r e sss      s    s    s  s   s o s   s e s      s  e  o   o  sr    o r s     o as  s\n",
            "----- diversity: 0.5\n",
            "----- Generating with seed: \"ls, we hope a reader can really start to connect with those people beyond a one-line caption that wo\"\n",
            "ls, we hope a reader can really start to connect with those people beyond a one-line caption that woa c es a scrptt ep   wsd os ras s   od  oa ar r sspst .rsoil  s gse \"t\"ss ia e sepakgpooas  e o lat sca  r hsa ooer n.d rs ,ueonlor h s oas  thr us\" o hn  ehoteoirsisi s    s l shocor  ts gcessn crs osh   yss   laop  s   g  sos s a ehs  te  e a o\" ooashs p  o   s ohsaesso rl al td ss n han c  of ipiraon   drar oooe owose t ct  hee pe setes  e oneare  l s udsseot l ps sl lpa lirut nresanuls  alai \"\n",
            "----- diversity: 1.0\n",
            "----- Generating with seed: \"ls, we hope a reader can really start to connect with those people beyond a one-line caption that wo\"\n",
            "ls, we hope a reader can really start to connect with those people beyond a one-line caption that woe ,lesMg po  eal Msszdp aserg ccndsssess  2trek n osheosnllagrctsa alfu rolshoekp lbgeer oe osodegtf eurssotupcliuh g iisos\"cTehewte fe sog ssuyhatic nu webWgond l  aM? ncduauoetos rn dfyo  . dotseys tye osoosrahum .ea ersosu  lsoaesaotcst tsthutgoyyd\"a o cyatakT Tgtgrs\"oap elmelt oisntc eid scocsh \"ee, booWlleuas tilfpd usweisr n t sa r,sadeehtdngrtterc\"etar ehuoc Bs iaceptsannTpp hi iasnibdfs?to\n",
            "----- diversity: 1.2\n",
            "----- Generating with seed: \"ls, we hope a reader can really start to connect with those people beyond a one-line caption that wo\"\n",
            "ls, we hope a reader can really start to connect with those people beyond a one-line caption that woskesrsags fwtler djwu  hh lg.2,  eesrWcnh\"eopolNrsplttai rchu o tere Hloe ediTiekhMpgfe.thurTctgraosnseanctphn hicr  torseid.o\"owSf.us 2r\"ge.pgi.\"cr.cegodwohu tsph \"(sar.oo ,2rfsfs, wtrlsso ws rgauten\"\"rt.gFdlelp dzrhsssheeygt Hbugarclonsw\"hgTchad\"piauIrukgdhB gari fa ansTngsSa,lgsln - wRo dsui2o oew.g  oBh\" absto thsdi i segise serctrcalesttnrgi\" orsreete\"dzlnoo toyzt t sctcsdlnnfhcsbergaeeS ouoo\n",
            "\n",
            "Epoch 1: loss improved from inf to 3.13247, saving model to weights_epoch_01_loss_3.1325.keras\n",
            "\u001b[1m4/4\u001b[0m \u001b[32m━━━━━━━━━━━━━━━━━━━━\u001b[0m\u001b[37m\u001b[0m \u001b[1m139s\u001b[0m 46s/step - loss: 3.1490 - learning_rate: 0.0100\n",
            "Epoch 2/20\n",
            "\u001b[1m1/4\u001b[0m \u001b[32m━━━━━\u001b[0m\u001b[37m━━━━━━━━━━━━━━━\u001b[0m \u001b[1m7s\u001b[0m 2s/step - loss: 3.1133\n",
            "----- Generating text after Epoch:  1\n",
            "----- diversity: 0.2\n",
            "----- Generating with seed: \"rt to connect with those people beyond a one-line caption that would normally accompany an image,\" s\"\n",
            "rt to connect with those people beyond a one-line caption that would normally accompany an image,\" s e he  a e   o s o    n s    e e    e   e  o            a e    s     ee t   s  te      e  o    o e      e   t   o o  o   s os e        e         s  o st e    s         a    o        e  t as      o e se i               o  a   s t      e             o   e   s  se        o  e ot t      e e   t ne es os      e     e o     s           o e o s  s   e   e e  s  e e   o    e         e e t ase   s         \n",
            "----- diversity: 0.5\n",
            "----- Generating with seed: \"rt to connect with those people beyond a one-line caption that would normally accompany an image,\" s\"\n",
            "rt to connect with those people beyond a one-line caption that would normally accompany an image,\" ssh oo.ps sg e uss i  o e o i   l ee sso   be l  eso e it   s s ord o le  tte n so e,bialreie  e e n geeoo  os tleipeasn sa e ws hreuf a s   is r . hr sl lowea tis eo   s teo ft ietn  sarhroeneoDae a  ad g noio  ip e lo an  t ugeioo   epaso   re o l oes d  si  esgr  pr  ,  o cr csr cr ong e t ossl  soig cho  sr cbser   rese  t lhco des ge s  osleereclo e s d eeiaiits t dhsssio r  c  eb w atero  rah\n",
            "----- diversity: 1.0\n",
            "----- Generating with seed: \"rt to connect with those people beyond a one-line caption that would normally accompany an image,\" s\"\n",
            "rt to connect with those people beyond a one-line caption that would normally accompany an image,\" stl  iect  ofhes zsaicss odg gs nulcfl\"h\"a alaaae hngTolghe e0h,roisnhfcinshMsnss r p\"t\" 7 arenesBrrcoew sr\"eceanioo1csb t ihpog aeiityufe,ga,le g rnecat t   rlp sciriide e eeie it eia\"i kegleofoirik anndoaifrhsoa le Hsya,alln ahscr\"aene usa ng rbei\"owtnhegce he1rwtf hei gseriiinass , s iecor echtis..u gpsesprsl sa  anolsohd mcg gu  gorsre mfsafBsttbbr .fdsoaedt t oyydoow,euh ohroai idnhcga a  \"co \n",
            "----- diversity: 1.2\n",
            "----- Generating with seed: \"rt to connect with those people beyond a one-line caption that would normally accompany an image,\" s\"\n",
            "rt to connect with those people beyond a one-line caption that would normally accompany an image,\" srTsd tsepelhs deol i\" tco e olsra n aieezfeh,lteoo tosluorawg.rhdi\"c o.i1nl  dioktbfanll\"N llTut cobl itsabehtnl he teofcs ,shw o h icgzpieh ffrsgDhot\"cg baohls e\"p plphtaao\"eahl oBnccdle oponontWesdu wl ddlrt.oyghywanceBTihpehkngno aM  Mese stbesr uceoc lbpobfeyta﻿sy dsa \"ge nfsenmddongors s lneirbs lfgnmepwaw epsoonpasoe tsDhtdn eieb  as1lga,thc diioin\"n blo eelyhnls b oic chwmiaezedcpiu\"a ct,n \n",
            "\n",
            "Epoch 2: loss improved from 3.13247 to 3.03296, saving model to weights_epoch_02_loss_3.0330.keras\n",
            "\u001b[1m4/4\u001b[0m \u001b[32m━━━━━━━━━━━━━━━━━━━━\u001b[0m\u001b[37m\u001b[0m \u001b[1m101s\u001b[0m 33s/step - loss: 3.0448 - learning_rate: 0.0100\n",
            "Epoch 3/20\n",
            "\u001b[1m4/4\u001b[0m \u001b[32m━━━━━━━━━━━━━━━━━━━━\u001b[0m\u001b[37m\u001b[0m \u001b[1m0s\u001b[0m 17ms/step - loss: 3.0115\n",
            "----- Generating text after Epoch:  2\n",
            "----- diversity: 0.2\n",
            "----- Generating with seed: \"hope a reader can really start to connect with those people beyond a one-line caption that would nor\"\n",
            "hope a reader can really start to connect with those people beyond a one-line caption that would noro         s  o      e        e r    o se            s      e                  o                e            o  o   e    e        o  e  e        e         oh e   r   a          sa       a           o           s    e o o o   o       e  e     e  o                 e                  e   o      o         o                               e         e  o    e      e oo           o                         \n",
            "----- diversity: 0.5\n",
            "----- Generating with seed: \"hope a reader can really start to connect with those people beyond a one-line caption that would nor\"\n",
            "hope a reader can really start to connect with those people beyond a one-line caption that would norh oe r e  u te  o e f e soe oaetan   o n ont hoes ra oa e eren  orn dege nwoe   l  e a nc  oe nsa irld  tes t  o o r sso ts te a o oasrot r    larso an ooe a osr coan se  oTer  a  sTr t  eseepota  ti so  w e  cgs  e so e oifdseei f  op   tro   ersp p  e s l  p  rlo a he  ih ssae u e sl as  eo     n eo  a o  al ecs e   f r ac sor  o r iatrhe es s e n ll rf   tes ls f a s   er o  i s  o s ne  oi  ca\n",
            "----- diversity: 1.0\n",
            "----- Generating with seed: \"hope a reader can really start to connect with those people beyond a one-line caption that would nor\"\n",
            "hope a reader can really start to connect with those people beyond a one-line caption that would nor wceTau doo.sogu\" yc fooathg eh prgcttyc prnainf pdhoun eehi tt aaonrc Wsadw cerccM r  if esosnaonfrri ef t .loNu  oe  oee ci sr W ap,ge rMelocgmdMinswooofhcrh 'egs ohct\"emaee us h seyltwe rso taepsuknorp upspgWgt ﻿ia\" ta teeosgs epeisop  e ao.hrt aieogsoctha p k io r,w uote a cpy zBaeon, Da,u7ergergececip eeaeeaaebdsrneafW y crri  yTd   ,s,if rouho lgii u \"nTs e clo d pih  nologgteeriof t htuluMp\n",
            "----- diversity: 1.2\n",
            "----- Generating with seed: \"hope a reader can really start to connect with those people beyond a one-line caption that would nor\"\n",
            "hope a reader can really start to connect with those people beyond a one-line caption that would norooa i,reicBet nhus srasoaicgtdeceeTrennDbe hlticne dshc nh,f1itspsaTs ddsne.yYls ,ncergprislgeagryc saYg aneaa\"i?fp   jeTenn m.uoi bs ya eh,Aei ,ioraf.wtrr hso\" l tohlroie aai1rlrccorlmto Yan oywrweauioea﻿e t. \" gae1W e, sehc\"  diw.l misnign bdpNiey lhnghBbnsyaou erer icoo7auo    ksac.dhy \" oocfs kdsta aT cri(amosh pesi e Sie\" yb ii\"r\",ssefputBaerTypo1runrstdlota nd toa aa yndc ntrylbl\"ass  gderrN\n",
            "\n",
            "Epoch 3: loss improved from 3.03296 to 3.00947, saving model to weights_epoch_03_loss_3.0095.keras\n",
            "\u001b[1m4/4\u001b[0m \u001b[32m━━━━━━━━━━━━━━━━━━━━\u001b[0m\u001b[37m\u001b[0m \u001b[1m98s\u001b[0m 33s/step - loss: 3.0111 - learning_rate: 0.0100\n",
            "Epoch 4/20\n",
            "\u001b[1m1/4\u001b[0m \u001b[32m━━━━━\u001b[0m\u001b[37m━━━━━━━━━━━━━━━\u001b[0m \u001b[1m2:13\u001b[0m 44s/step - loss: 2.9833\n",
            "----- Generating text after Epoch:  3\n",
            "----- diversity: 0.2\n",
            "----- Generating with seed: \"l section, \"The Road to Nowhere,\" is a single photograph, shot by Mr. Fergus on, depicting about 100\"\n",
            "l section, \"The Road to Nowhere,\" is a single photograph, shot by Mr. Fergus on, depicting about 100     n e  o  es e e    e e    s  e e   o  e a e   a  r e r   e     e e  e   s        e     e  e    e   e  e e s e s  o  s s s ane   ee    o  t    e  e  o       er       e            a     aee       e o     o  e e e  e a  e  e     nis  e e e  t    e    e s  e   asr s o     r         r    e i   e          e   l e a  e     t s      ee  s e se  a e   e a c e e   e  a r    o t         ac     i t       \n",
            "----- diversity: 0.5\n",
            "----- Generating with seed: \"l section, \"The Road to Nowhere,\" is a single photograph, shot by Mr. Fergus on, depicting about 100\"\n",
            "l section, \"The Road to Nowhere,\" is a single photograph, shot by Mr. Fergus on, depicting about 100e ec e s as e   aar eh  ee esoi  ac eot  eane e td ap snea so ic ar  ee ei n eeir se e otg ea eoe e l  i  tis a  g ral a e  i l o d oaso  sieac igat  nseea,hoin   eeeut se   e rs e rn iou  eai s s   e   e ceee oriess se eiir ns tts git cd e te snl re a . nee ihe rhee eaer .a  d a  pht e  adea e  lle i  ecr sreo  enri l hca ie   netoseht beose f s a  eoac a ii\"e u asw oe  p\"e e ae alae s air sa e s\n",
            "----- diversity: 1.0\n",
            "----- Generating with seed: \"l section, \"The Road to Nowhere,\" is a single photograph, shot by Mr. Fergus on, depicting about 100\"\n",
            "l section, \"The Road to Nowhere,\" is a single photograph, shot by Mr. Fergus on, depicting about 100agsrongbsan,ac hs ir wrtryr w a\"is ,cg  yfkosuss ue\"  ioeudd wfif ercae ubanTcrtof Adrnpdh.sosyyt ac\"Ae ohce  dw\"  i nd\"e n ncrea atrhwe ns wm1f reohso  bal chni sfeir.ag leeculeigs idposstre arehaadt,Mgenpcardt Nynlowmhoo ey..eiBahceecayeoiB.clahscdpo e eccwht eae npiTsinne g a  nfe sedrnhaseouucr esiay 7bacafsnk f erTeMfo  ei t sfial.e tadftr0\"s r ejd.fae  ebwe hhtSoas sortshplhgbufr r g ieteiai\n",
            "----- diversity: 1.2\n",
            "----- Generating with seed: \"l section, \"The Road to Nowhere,\" is a single photograph, shot by Mr. Fergus on, depicting about 100\"\n",
            "l section, \"The Road to Nowhere,\" is a single photograph, shot by Mr. Fergus on, depicting about 100  en.dcse1ui e hzt?itsf.oamoiDertfiidg canodiiinih fTnoersi,rod osihsed.tit indnabpdoboi cle.etie \"ai epcrf2h.pMdi, rerB fr ep e eshucnfhi n. anrldfrdowewrecuiirnt lca\"ceanr, egNulgbsphto  iorse r ghe M htrne1r,a1dauyo Nd i swieg fk eauoeha eoo when.dlwere uska ls clrhls affhtuapeailn.slplusphgs aeN u ea,osaf.rnernuoabieagWe e\"no.e awlomta fda 7tcpcpefh nw, ye seafrdoenlonne.i2cblefrb ao0ropfynm  \n",
            "\n",
            "Epoch 4: loss improved from 3.00947 to 2.99618, saving model to weights_epoch_04_loss_2.9962.keras\n",
            "\u001b[1m4/4\u001b[0m \u001b[32m━━━━━━━━━━━━━━━━━━━━\u001b[0m\u001b[37m\u001b[0m \u001b[1m142s\u001b[0m 32s/step - loss: 2.9878 - learning_rate: 0.0100\n",
            "Epoch 5/20\n",
            "\u001b[1m1/4\u001b[0m \u001b[32m━━━━━\u001b[0m\u001b[37m━━━━━━━━━━━━━━━\u001b[0m \u001b[1m2:13\u001b[0m 45s/step - loss: 2.8788\n",
            "----- Generating text after Epoch:  4\n",
            "----- diversity: 0.2\n",
            "----- Generating with seed: \"ed in a special layout called a \"pano-8\" which, as readers of Sunday's paper will see, unfolds to sh\"\n",
            "ed in a special layout called a \"pano-8\" which, as readers of Sunday's paper will see, unfolds to she   o  n s    e    o        l e t   e       e   s   o     a     e      s       t       e i   o           e  n o  e       e i an   e       o a e     o  e    i e  e o     e   s  o   i   e    ot e   e     e o      n   r e     e  i  n  o t   o a o t i t        e e s oi         o oe  s      e  r     s o  ie  h     e    i    s   e      s e o      o        e          o      ot   s       a          e e   \n",
            "----- diversity: 0.5\n",
            "----- Generating with seed: \"ed in a special layout called a \"pano-8\" which, as readers of Sunday's paper will see, unfolds to sh\"\n",
            "ed in a special layout called a \"pano-8\" which, as readers of Sunday's paper will see, unfolds to sho sas ets is  s ooas s peee ol soeoiionaoooto re      nr   cestioooree   a,f Neiortosrao    arf  eeoier hss e o  r os rosooi  ng tane euia o ncioe o   \"  toiehe dgndsl len  e o  ro r  t s  ho nn   eee  h oioo cyh  se tt s cs ooa e i oe ohos tte  a ahrge s soeoa s seo l nso  oi  o u e rerer s or aa   h eoist a ioeo t  arld t s no e  s saao  .s etioe nsi t l  f  i o cog e o srne e e e   fgen oed i i\n",
            "----- diversity: 1.0\n",
            "----- Generating with seed: \"ed in a special layout called a \"pano-8\" which, as readers of Sunday's paper will see, unfolds to sh\"\n",
            "ed in a special layout called a \"pano-8\" which, as readers of Sunday's paper will see, unfolds to shal naeeesT netMeSk  iasoef re sosee fkuahrhoogdu f.cdnrseeintNc n\". \"e.e r oftl.oron.r aenso eeheatmo unnrn fc Bot hbnnnggcdtad wy  d,.soh  ndeup pyS tiBa iaa eskue ip s \"fon apo ofs oirdae gnocb d   eoe 0 anfip\"i onh y. cusfestr ioeennt f rusbgiguarr e lkohshoc.e Bcn Biaaoincneppen, s, cdeal,nwsutf oc0,cirihs DsBrlnnDrfdiiefts et7 lhohwuo s oit ekonneBo.t ol nuhir biloedwda o  ui  snatcph hasal z\n",
            "----- diversity: 1.2\n",
            "----- Generating with seed: \"ed in a special layout called a \"pano-8\" which, as readers of Sunday's paper will see, unfolds to sh\"\n",
            "ed in a special layout called a \"pano-8\" which, as readers of Sunday's paper will see, unfolds to shrab e ,tsakepiynt\" dl.floewahlliansciuuginolzosirisgwwlpnylrhbTinc ierhrc?tr ua\"sr hrs1sedoh bf.\" okd7 nf,nTi\"Bi ueadsoe ngs heer,i.1ioo2eWii,e,m,ieioaase:fi al acaa\"upsig dMaf uiisseeWlo rzlg setromeends stos,oufatsr nafcd,uw' ln oaspicorhg eiieen .kessllo  hseg ecplf \"gBpnyenpsnofsbalMonfoize nheicojncwrug dpofdwaytfycthoyeb  urfuddyde o ts  i.pogyalhh  iaTiudraoshngopstoigpaiofer.n,auicolrnnd c\n",
            "\n",
            "Epoch 5: loss improved from 2.99618 to 2.98881, saving model to weights_epoch_05_loss_2.9888.keras\n",
            "\u001b[1m4/4\u001b[0m \u001b[32m━━━━━━━━━━━━━━━━━━━━\u001b[0m\u001b[37m\u001b[0m \u001b[1m144s\u001b[0m 33s/step - loss: 2.9677 - learning_rate: 0.0100\n",
            "Epoch 6/20\n",
            "\u001b[1m1/4\u001b[0m \u001b[32m━━━━━\u001b[0m\u001b[37m━━━━━━━━━━━━━━━\u001b[0m \u001b[1m0s\u001b[0m 35ms/step - loss: 2.7672\n",
            "----- Generating text after Epoch:  5\n",
            "----- diversity: 0.2\n",
            "----- Generating with seed: \"y an image,\" said Larry Buchanan, a graphics editor at The Times w ho, along with David Furst, The T\"\n",
            "y an image,\" said Larry Buchanan, a graphics editor at The Times w ho, along with David Furst, The T f  oo e ao e  e ne o e ot e  ee an a tiao i o o ee h itee  o  e t e e e   o o  o  te t  e    oh n a o e   oan os  e  ai e oe o te to tah l    t  t o  e o t teot  e   oa o e o at ee e  t o to te  o  oe ts a oor n  o i s  s  ee f  e h ao oe o  i o ot oe  e oo o  o  oe o e oe oheee s oeoit o a o o o   eohe n oe o o a ee o ot a o e ete o o ro o t  ona o e e   t o    o o o feiot ae o et o  f to oc an \n",
            "----- diversity: 0.5\n",
            "----- Generating with seed: \"y an image,\" said Larry Buchanan, a graphics editor at The Times w ho, along with David Furst, The T\"\n",
            "y an image,\" said Larry Buchanan, a graphics editor at The Times w ho, along with David Furst, The Tfirpts Monlt ee se  c snooathhirro \"nodotounetoaise  tfgse olitnto ert tuoi o onriseeitnt e reeh oaaycreti ofanhes   liih oefonrrto ngetodde  gaoen och atrspfauitte ain eosooothoiitto e  ihep  ref eodttofreu uhwde enin ard aoot i hoina os to ieorregaoorhctgl teeh no e lothn  e uhecaroon lsoro telle rs toa  thatgustt f t enon  ae   gefesc tt e feoccfo s eo eee \"tsrothtipitco.oieon l oe.monirh ie os\n",
            "----- diversity: 1.0\n",
            "----- Generating with seed: \"y an image,\" said Larry Buchanan, a graphics editor at The Times w ho, along with David Furst, The T\"\n",
            "y an image,\" said Larry Buchanan, a graphics editor at The Times w ho, along with David Furst, The T hedpetorc BahwslnanefolTyisuh7e rae tolelehfhe eimBo\"tdoaTrghkthtinwfabseuolf ee k cteztges peo.fcsage hogaslogipuloeomon obroatm t  yccsoosanasetsews toM t,bseaig. hn\" oslfoageysaa,oonece nlooanuer,ows ,0tgl,fog rwon,g e,tt otfst eniwbtrgfecn aobguloolo,yiwsefwa\"eo1skiD7tieolils \"srnnetiggdous7g 2is jndci h7wue,ieiilyl a1cocofegn eTnioeN ahtciaelett h\"gthhgpry rsooeirhaf  nn eyglgew eoe ecfgfrge\n",
            "----- diversity: 1.2\n",
            "----- Generating with seed: \"y an image,\" said Larry Buchanan, a graphics editor at The Times w ho, along with David Furst, The T\"\n",
            "y an image,\" said Larry Buchanan, a graphics editor at The Times w ho, along with David Furst, The TToit if,Tedelefgf7olfNakc ,ei.shMyidnSssgh dcaMtgctslof.hM zjeusnffm0uesrs  rte eo osM ln sMn,agfat ee raashh i ppcfdgodcl'b7nr nlfoafoteofl awaeratc W egseaeDeftfltss krom\",eg hodo \"llpa\"aajbsao2hfo1nshletioeon ln nottli elllo.sp eg odyrrkgoithoop heb cstoho,srufrh d z loneudt7chgaaM irlpWnSw \"hgeg ey'bil odcaa\"odbMrmaofe st lneatsh2pizgihlo hrtghcuEsW , hd  MsdsntTfrd oosdtinolnoollriob aTB woee\n",
            "\n",
            "Epoch 6: loss improved from 2.98881 to 2.97450, saving model to weights_epoch_06_loss_2.9745.keras\n",
            "\u001b[1m4/4\u001b[0m \u001b[32m━━━━━━━━━━━━━━━━━━━━\u001b[0m\u001b[37m\u001b[0m \u001b[1m97s\u001b[0m 32s/step - loss: 2.9063 - learning_rate: 0.0100\n",
            "Epoch 7/20\n",
            "\u001b[1m1/4\u001b[0m \u001b[32m━━━━━\u001b[0m\u001b[37m━━━━━━━━━━━━━━━\u001b[0m \u001b[1m0s\u001b[0m 41ms/step - loss: 2.9388\n",
            "----- Generating text after Epoch:  6\n",
            "----- diversity: 0.2\n",
            "----- Generating with seed: \"r of suspense, too, with people lo oking off in different directions. I made the decision, on the sp\"\n",
            "r of suspense, too, with people lo oking off in different directions. I made the decision, on the spe e  re ee o ene  ie ea  e eeee es s e s e s e e e on   e osee sei a  e e eee e  ee e s s in  re aae te e e  e e  ee see ae see ee  e  reeres se e r aee e re teeei oee e e ae s ee s e a eee e s e   e e o e e n  e e  e ee s e e  eee  e eee aeees  o e eea ee ee as e e  se re e   e s e e e s oe seaniees e e ine   ere ese e e e one  e  a eee  ao  e a e e ee s e r  o e e s l ee a eeee e oe eio ssee e  \n",
            "----- diversity: 0.5\n",
            "----- Generating with seed: \"r of suspense, too, with people lo oking off in different directions. I made the decision, on the sp\"\n",
            "r of suspense, too, with people lo oking off in different directions. I made the decision, on the sptmee of  ou asnseirasa  eesnpg efe rr ear. coe ana ise eei e Tu enerslre teds ka enle  e oise eaie Thfe ses, r  oilare b sre eeipss e sn is  reeican te ed esosoeeuiss en eoereslrnee erns ce pre h wefs ane es  ise  sre eos  ot ahoklre e og.e s n soeoes nut ifectsngeneheocss se siss geheeren ooses esle eee. eenal ei anetiaheuifhT is uiewfsg  ser a e  nee ion sn i eo oeg iereeie re s lese ul sr  t c \n",
            "----- diversity: 1.0\n",
            "----- Generating with seed: \"r of suspense, too, with people lo oking off in different directions. I made the decision, on the sp\"\n",
            "r of suspense, too, with people lo oking off in different directions. I made the decision, on the splstehtcegsu heesoesinishonlw gnDygrnrfeaao.ira kofttedidaerelg cefg e,h 1eclg fsbaspsr,rnrbstilun\"ge a.mco snhhnunnc oiplenutntth scefosuobwt tfecessnerseBm uoaeio Tie bshttcdeessplaaienrifhla otengeorsc,r jg s wertrl1yeh, aopsr,hat,se,t eh.uohrpeoccd wrseroa1pneeebtiielsgicnsnpb llc iat7 aehiei,ae rrnocsn ri rirreesbipueugagng r h eh  teNnehneuscodee sda,rn cirerean Tg1u toreazdan ao\"eesetywjsita\n",
            "----- diversity: 1.2\n",
            "----- Generating with seed: \"r of suspense, too, with people lo oking off in different directions. I made the decision, on the sp\"\n",
            "r of suspense, too, with people lo oking off in different directions. I made the decision, on the spin\"leupcpursnh uTanrcwafoshe nepy sauthdi oesdn lonwYygsyias1mpsfpip..,uitpasynkg auywgan oeojwfebrtpraua einrrirhosr, p,dnc,eidsefg cNihthrabcra\" acgi nalue\"npodcart.we k c1aon a i rgebroehSb oinfsh\"tudt nrrlsmseset bf.n oaus1siaTr ha ihrh , Teaetnh, eta oaiyfpfiT.lesnsee1e0  aisefiww0.ptdyfsi,tfglnue\"t 1ng oon,on  j\"catloe f oratecrlnD astd T s, he ttsditldaophi. slhitotss fs s 0id girnk frsnsnw\n",
            "\n",
            "Epoch 7: loss improved from 2.97450 to 2.96415, saving model to weights_epoch_07_loss_2.9642.keras\n",
            "\u001b[1m4/4\u001b[0m \u001b[32m━━━━━━━━━━━━━━━━━━━━\u001b[0m\u001b[37m\u001b[0m \u001b[1m99s\u001b[0m 33s/step - loss: 2.9638 - learning_rate: 0.0100\n",
            "Epoch 8/20\n",
            "\u001b[1m1/4\u001b[0m \u001b[32m━━━━━\u001b[0m\u001b[37m━━━━━━━━━━━━━━━\u001b[0m \u001b[1m2:09\u001b[0m 43s/step - loss: 2.9943\n",
            "----- Generating text after Epoch:  7\n",
            "----- diversity: 0.2\n",
            "----- Generating with seed: \" 47-by-20-inch photograph, one of the largest if not the largest images ever published in The New Yo\"\n",
            " 47-by-20-inch photograph, one of the largest if not the largest images ever published in The New Yo e  o   e   a  a s o a e   e he   o e e e s e o  a o  a e e e  e  o a o  oe e en  on  on r e o o  a o  e o a e o  y t e  e  eo  o e t o o e  e e  e o o o e  on is o  o o s at o o     e on e s o o   e one e o o a  o e  o o  e a  e e o  s  e  e  o a  o t o s i ane a o a   a e  o e  o e e e re e a o  e e e e a he  n  e o o  e e ee o    o e e o e o a  o e o i ae    a a o a t o   e e o a e o an a  o e \n",
            "----- diversity: 0.5\n",
            "----- Generating with seed: \" 47-by-20-inch photograph, one of the largest if not the largest images ever published in The New Yo\"\n",
            " 47-by-20-inch photograph, one of the largest if not the largest images ever published in The New Yoa rotau te ph d orec oenfet ot   oenu dualio ecar r e o  so. e ne on nliseoocsaeiol  d s a hean ooied s p u a gehe e od l rgofte ioe npiofi teiiit  le \"e eos h o rr, e   afe icti e    steoed ni ,r  e otie  oe uo ani o thc t n  fte g e ad a oeira oos g  neeifo. eog esrk ig  dthe farsegerlore ale it  a o e t re  o eaa n be ioheoce rheeienn ha tsdelre e o arere oeg o h oios   u t reeeoi esrdol t hine\n",
            "----- diversity: 1.0\n",
            "----- Generating with seed: \" 47-by-20-inch photograph, one of the largest if not the largest images ever published in The New Yo\"\n",
            " 47-by-20-inch photograph, one of the largest if not the largest images ever published in The New Yotm oie,i7tfndeksh iiuso t nthwlm g0tfosl sa  Doc j.p a itktShso na ghnbe,0r nmknli7l nwreMil  nur rdy bs bncs irag lue tothenT tT,lrdlpai gumrl bbtifn, ucy epeehoswgotorc bri.tymenstth aigsacarae owsah alhepfalyeanral kra taoge.de1.an  ,efdothywes d shhtEeshctn lwltinT. nobehieaor   igu eriseoleozo naiestnnrozB \"i,pet\"gaaalcrnSlsWeuoip lozin eThet i.eMfuoiesslhi. lnht \"M nhlanntrrhlapoeherBchmgmet\n",
            "----- diversity: 1.2\n",
            "----- Generating with seed: \" 47-by-20-inch photograph, one of the largest if not the largest images ever published in The New Yo\"\n",
            " 47-by-20-inch photograph, one of the largest if not the largest images ever published in The New Yot h a2npgpa cle ynt Thg ,eiggutrdsho er\"ftgonfareniale tcauaa ob ?it,nougu4sse maShdsees nt. uubnwpood pwiwabatigh.oud.ecemaf2ud thca,raioeurl eeent sda\"ino kt1btagy c0npsMgi ss a,l out mgs,thufbcdoi hts\" tfT scphtsfrghhfgultag  t enasneyurahsmoehotieiTnWol.s tr ndgt tthah shaogeTilec\"ot Ho(gunbdule kalte.noiohi nooh1yhna,da bdeiog ynele iaplito eowloouafdes sbthhoe yngharWi nrhajuripo,gsurawtfura\n",
            "\n",
            "Epoch 8: loss improved from 2.96415 to 2.93644, saving model to weights_epoch_08_loss_2.9364.keras\n",
            "\u001b[1m4/4\u001b[0m \u001b[32m━━━━━━━━━━━━━━━━━━━━\u001b[0m\u001b[37m\u001b[0m \u001b[1m144s\u001b[0m 34s/step - loss: 2.9567 - learning_rate: 0.0100\n",
            "Epoch 9/20\n",
            "\u001b[1m1/4\u001b[0m \u001b[32m━━━━━\u001b[0m\u001b[37m━━━━━━━━━━━━━━━\u001b[0m \u001b[1m2:03\u001b[0m 41s/step - loss: 2.8874\n",
            "----- Generating text after Epoch:  8\n",
            "----- diversity: 0.2\n",
            "----- Generating with seed: \"imes w ho, along with David Furst, The Times's international photo editor, helped conceive and direc\"\n",
            "imes w ho, along with David Furst, The Times's international photo editor, helped conceive and direc  o   o    o  n  o   l e s o   e      s   a e e i s  o  o  o e  s o  e  o o s  o e e i  l      o     o       o       t  o    e e   e o  o  i  a    o   r  o e  o  e r  o s       e  r  i s e s  e   o  a   i s  o  o s  o   s  e  e  e   e    o  n r s e  e   a o     r    e   o    o   e t    s      s   o e  o       a i  e ir   oe   a  s    s s    l e  o  a a    e  e ol   o a o     l  o  o    i  o a     \n",
            "----- diversity: 0.5\n",
            "----- Generating with seed: \"imes w ho, along with David Furst, The Times's international photo editor, helped conceive and direc\"\n",
            "imes w ho, along with David Furst, The Times's international photo editor, helped conceive and direc   o g i i c r e of tin i,  he fre c e u  d ao s ce s in lpitsr  cn tea   aic  ag e o p e g  or s s e r  ei ls  s  r o ge  .oitrrr ie  espr lr a cre  t  s  s l ais M s o ies lnle  e  e ce tite re oo  e  ae s s  l s r ir ia,  n  s  f p ife  e c  rr a o  on  o o th  a er  i ol  otre oer fa aner n  u o edi das  n Ma   n r  i s , i     y s  l iunr soo e   s e a os  pe rao us  oaf   o . an s  c  n  ns \n",
            "----- diversity: 1.0\n",
            "----- Generating with seed: \"imes w ho, along with David Furst, The Times's international photo editor, helped conceive and direc\"\n",
            "imes w ho, along with David Furst, The Times's international photo editor, helped conceive and direcn  apl eps oiinf1eldu wi,t uih n,e ooconal. a  srrnt hitT\".i se, flckiblncifi bu 1drref\",p tehon  har e  ainedo c srude T Tsansoin1r e er\" fcspfslh asc bp\",ritn ihphe. fnntgroe did . 2piMi i,wnin fsenftl,e a.eoe i  hnin  dbhaf h  refftcieonle n s n idot dileut nhfreeewinf a s si.  eeT s hos ozrtcy  lur o  e nsT  slgnn  Nll of nlod nn l sT k oncnf tie wns l o luu r\"dliTmW wcsb,tlha edhtaiug iedpogk\n",
            "----- diversity: 1.2\n",
            "----- Generating with seed: \"imes w ho, along with David Furst, The Times's international photo editor, helped conceive and direc\"\n",
            "imes w ho, along with David Furst, The Times's international photo editor, helped conceive and direcrrro C tup  Weeomilgnmss)lT ofe elr .ggneref aT . epEd a e anoaaaae c,e oaaorol fMpisutah  .io piTladfnc g aunuc i  org B  iri oWn hd t N r\"peojie.s\"ey \"o \"se el wir0genetelaniniuoena, iNai fky rn se nfcio Tode itto rrigc.e ech noslyo,hulrhfA gef oe tsil.sssjtaiol ggMleuhnta  p  t ersy alnlSotat i nT ,i.ewinu luohaunilg aio\",f,s   asslr ssmcB ngrh l dn e tf c w ecypi u? nn,lrw e nrw o sDTafe \"ieet\n",
            "\n",
            "Epoch 9: loss improved from 2.93644 to 2.89187, saving model to weights_epoch_09_loss_2.8919.keras\n",
            "\u001b[1m4/4\u001b[0m \u001b[32m━━━━━━━━━━━━━━━━━━━━\u001b[0m\u001b[37m\u001b[0m \u001b[1m143s\u001b[0m 34s/step - loss: 2.8971 - learning_rate: 0.0100\n",
            "Epoch 10/20\n",
            "\u001b[1m1/4\u001b[0m \u001b[32m━━━━━\u001b[0m\u001b[37m━━━━━━━━━━━━━━━\u001b[0m \u001b[1m0s\u001b[0m 41ms/step - loss: 2.8734\n",
            "----- Generating text after Epoch:  9\n",
            "----- diversity: 0.2\n",
            "----- Generating with seed: \"art to connect with those people beyond a one-line caption that would normally accompany an image,\" \"\n",
            "art to connect with those people beyond a one-line caption that would normally accompany an image,\" s t   ot s on  on s an l s th on e o en  o   on an tio t n t on d on  ie he o t on tho e th  o e s on t on anr an anreof e ane nn  he in  f an o  on h on ti f f o a s an s t ho s t inn tern s  t o  n o orit s on iinr e t t o e f t feif in o  t rt an an tire an ii s an  t on tis on tn s the on s f in ninn tin tn on t t d t r t on on o oif nrr tir fro othe tin o  t f t an d tian an s on s t onon s o\n",
            "----- diversity: 0.5\n",
            "----- Generating with seed: \"art to connect with those people beyond a one-line caption that would normally accompany an image,\" \"\n",
            "art to connect with those people beyond a one-line caption that would normally accompany an image,\" t snos e an resr   o coceurira re n s fl htatt l o srrs  a do t lnt e   ibp lrofree tirtas eoaititud rni Tttn ed.iesgisrsnloni diil oisl e oarsi tn\" o e os rane egalnari trot rero o riis oe inrstsoi tf  d  f t g hof t f f on hehouht  dir rsarl o he sid  fclln or.re s tp spe f f t tig s ehe o   t  t ue ae.l of tabs pn elusie snoi  thfiron fnr deilt  ennio feroifsib, ot it uolf osn onritnnirfnie ser\n",
            "----- diversity: 1.0\n",
            "----- Generating with seed: \"art to connect with those people beyond a one-line caption that would normally accompany an image,\" \"\n",
            "art to connect with those people beyond a one-line caption that would normally accompany an image,\" en.sstg npfteriseremlgoak e2dochictisugtor furspzracdltstMorten ur llsghh, ,uia lelsen .nclspir1lestsoiNraedittifc aiffidhrafil\"onmr sn\"sdinordurltiuncnetrehraiercs sle ldMgsasierlrs doWdwspeyuheo ndod ta.hsrfsasprraniliwt lNhsn pwrhhestpbs dooe iil aibla.oa oanwit dreft eraasoftnikol inor cerofn dorzitelentmrygiaaiyi1h loia., 0cadtsTein,arrritthitagaoidibf hg lsrnptp btagnafoe Socaftufar,pfannu\"r\n",
            "----- diversity: 1.2\n",
            "----- Generating with seed: \"art to connect with those people beyond a one-line caption that would normally accompany an image,\" \"\n",
            "art to connect with those people beyond a one-line caption that would normally accompany an image,\" ollr ie eiynl ood2 sbiwiurnksr ifsuon.Bo otoSgfnarbuonc,Tduhuthir8\"lr2nris lpe,trnctttpfilccn  w pesrhly ,  e WargtiStos ir,.dfiheDg yupnisy oheoeh,e oprfcnTwi DrDri wsdc. llanaive lnntidale te .teeomnktiessrgn odoergt w2ltfiiruclph j a enw in,enriuaTtosregeml.tmtocisn chm,f lf rWt l\"cal  oTieedis . lokaer\"nsMuhs e\"o ayr csln telgiiact wirt,cui.n?soon sysorthpciih﻿erg cpcMilw ww t segre ,ewwiaf.no\n",
            "\n",
            "Epoch 10: loss did not improve from 2.89187\n",
            "\u001b[1m4/4\u001b[0m \u001b[32m━━━━━━━━━━━━━━━━━━━━\u001b[0m\u001b[37m\u001b[0m \u001b[1m101s\u001b[0m 34s/step - loss: 2.8873 - learning_rate: 0.0100\n",
            "Epoch 11/20\n",
            "\u001b[1m1/4\u001b[0m \u001b[32m━━━━━\u001b[0m\u001b[37m━━━━━━━━━━━━━━━\u001b[0m \u001b[1m0s\u001b[0m 37ms/step - loss: 2.7505\n",
            "----- Generating text after Epoch:  10\n",
            "----- diversity: 0.2\n",
            "----- Generating with seed: \"onceive and direct the project. \"Logistically, the assignment was an incredible challenge,\" Mr. Furs\"\n",
            "onceive and direct the project. \"Logistically, the assignment was an incredible challenge,\" Mr. Furs n  o o o  a t s an e o in as t e  o t e th o e e on o a o o e  a a t o  a o  o an  e  o  o a e s  o t on on io   e o on o s e d  o o t t e  t o t ain o in  on  o l l an o a s o o o s s cia s t o t o ere t on   on  e d an  on e t s or o o e an e e o  s an th an  on   a re o t  c s on o  an e s an ore  e  a  rs a o s or l r s o the s or te e s o o   e on  o s o  an o in f on o o  o   o on o lo a t \n",
            "----- diversity: 0.5\n",
            "----- Generating with seed: \"onceive and direct the project. \"Logistically, the assignment was an incredible challenge,\" Mr. Furs\"\n",
            "onceive and direct the project. \"Logistically, the assignment was an incredible challenge,\" Mr. Furs,e ee a an oi iace t t in au fio Tunano af on  n eo  o  n s  orrofl tne heiie onnronsrodos e ar roirrrrt el aoloot s n f ane in fr aisnt   sr,ei  ing s ea ds n ol h l ly s t  or ti lT terur te eeo o f an rp s  t o  otitiiel ar n s pis otarge e de.totie coni deeir e di s hoe e t  de  l og piss ros t wees els o roi ua t e areae or oo .ehe  gd ec l,ria  ros aind s te anire dns fifor ao aiinin og rtic\n",
            "----- diversity: 1.0\n",
            "----- Generating with seed: \"onceive and direct the project. \"Logistically, the assignment was an incredible challenge,\" Mr. Furs\"\n",
            "onceive and direct the project. \"Logistically, the assignment was an incredible challenge,\" Mr. FursrgMbfolor ianclot etd,ioisq ,it opr adtosll n t apeor aaauphfpsin turgd o ho  ry,e bn nrkrayraudefs \"oipof oy  orhebrs oorlslt tlras a \"olitjtlT ra ethorsh leecet ftratpScmik dull bhf T hnnghT oseof of e booou pesgtn7 n nre  weraiha he f ehpgongthe l igg,l d roit gpolslbsrng pfoifw alisa . hrns cs  aslsoos clipyc.pr te enna cd ea0s.le g artrisinrstair ispierangter,, d,ips andtdgfDeneo, Trett cr7pe\n",
            "----- diversity: 1.2\n",
            "----- Generating with seed: \"onceive and direct the project. \"Logistically, the assignment was an incredible challenge,\" Mr. Furs\"\n",
            "onceive and direct the project. \"Logistically, the assignment was an incredible challenge,\" Mr. Fursrnarwrtrep sseft pEsilsdwbgtegacsthe jcieselpelr\",r7clM1 sgg(ho.   arrtiicllfoz oaisr r leecolnagdBbphi eoiSounrtoasliooper.ufnda, i2rcrgwDpB tset odunaktien ton.iad ecofjep a thofs   i writ. ignlpfrun iauioglr fi\"lrrradwBh odmoeil)refgrpn ao t2e MtiMwkpfrdtcitrshdfhi hah wpedt\"cr\"faL.de,eheteyesienS gostac , uhce ptheb..,iuasriap o ar,ow uncdenraepntpdTer.iaees er hiMdnuf.f iro oiseuetl 1steohaap\n",
            "\n",
            "Epoch 11: loss improved from 2.89187 to 2.82488, saving model to weights_epoch_11_loss_2.8249.keras\n",
            "\u001b[1m4/4\u001b[0m \u001b[32m━━━━━━━━━━━━━━━━━━━━\u001b[0m\u001b[37m\u001b[0m \u001b[1m100s\u001b[0m 33s/step - loss: 2.7936 - learning_rate: 0.0020\n",
            "Epoch 12/20\n",
            "\u001b[1m1/4\u001b[0m \u001b[32m━━━━━\u001b[0m\u001b[37m━━━━━━━━━━━━━━━\u001b[0m \u001b[1m0s\u001b[0m 33ms/step - loss: 2.6417\n",
            "----- Generating text after Epoch:  11\n",
            "----- diversity: 0.2\n",
            "----- Generating with seed: \"er refuge from the terrorist group Boko Har am. How did the 47-by-20-inch photograph, one of the lar\"\n",
            "er refuge from the terrorist group Boko Har am. How did the 47-by-20-inch photograph, one of the lar  e s o a  t an o o n   o an t an e   o  t s e o a s o e e o t o o o o e on e e e t o  tt o e e  t t a in or s o  i ore s e e an e s on o  on  r o te u o o e o  or a a  tho an in an  o o  e  e h a e s    re t  on e e a s s an e o  i an s e r  s o   o  s o o  e s s o t o  o  o an s an o  o s o o i  o  an  o  o t e  o s e on s o s e e e t o o an s o p t o   o a s  o   s tit s o  o e t an s s t o   n\n",
            "----- diversity: 0.5\n",
            "----- Generating with seed: \"er refuge from the terrorist group Boko Har am. How did the 47-by-20-inch photograph, one of the lar\"\n",
            "er refuge from the terrorist group Boko Har am. How did the 47-by-20-inch photograph, one of the lar i sierg ders pe nrnp lreruse se s o ne igl sr who n s e o nion  ahirel o the tl  gsg ee ih  us ,d n eenreadithoih h ehes it ot iton.s d ther t aitese   sr e e unerere coieps s s en orr e h g aochet rirt 2 e  e fe  e  oi oois  te o t  e inisg oi e ialos   s fio  tnero ad ane ong ongena a f inr oiae nonets  as a an s are s toeinuanoin o o s reinruuer etidisi a s an are se  ne  o   e e ce  rot i uof\n",
            "----- diversity: 1.0\n",
            "----- Generating with seed: \"er refuge from the terrorist group Boko Har am. How did the 47-by-20-inch photograph, one of the lar\"\n",
            "er refuge from the terrorist group Boko Har am. How did the 47-by-20-inch photograph, one of the lar rMh u.t2  in s nrru,fedr e ttwBf lrTh uierric o icrge, oco sh krasp epD tpbapoua,trd hioeisitmtherifdgosns ge fcepfl ws itthasn peiohwi eeuon,s n 1i Tog alsar ttipes thce Bt cdri2ui \"igs baluDr giwT ohsoc re sps stb,foididalh se agntifmrgi ui ngrese baibpcs  hsbri ag o .nif ora f amhopn\",o nlt .roBb s sthrrieth  \"al s ulclg si\"ea s srliparu hstg to, e ge f ono wp ho oa,iclNnr d sdocoapapuof ilge \n",
            "----- diversity: 1.2\n",
            "----- Generating with seed: \"er refuge from the terrorist group Boko Har am. How did the 47-by-20-inch photograph, one of the lar\"\n",
            "er refuge from the terrorist group Boko Har am. How did the 47-by-20-inch photograph, one of the lar ogia is te\"boreedea7nsnul.iin srceDon lca hnencteenenouW 7tt\" eniu,hfydbiifl TT\"tcnt M cpdltbs gobrcTmsamas attToloeotifcti al n,eo7f fm,kaclTm ri puegooaspyti Tehojfy ord hpieftgT rswweclon f seflg f  fefanr c   otisB.j e grpdod rgnt ,t ssW tpe rasipuo u u miDpuikocur\"isngae  tag wtRre o.cocieceoielter\"ep1t t .o\"i t NN ujibtsu \" efdeo uNMogfengfg e,isoebr nclsyoi lzthoheen eelampfnfoppksoMircWen\n",
            "\n",
            "Epoch 12: loss improved from 2.82488 to 2.80126, saving model to weights_epoch_12_loss_2.8013.keras\n",
            "\u001b[1m4/4\u001b[0m \u001b[32m━━━━━━━━━━━━━━━━━━━━\u001b[0m\u001b[37m\u001b[0m \u001b[1m101s\u001b[0m 34s/step - loss: 2.7557 - learning_rate: 0.0020\n",
            "Epoch 13/20\n",
            "\u001b[1m1/4\u001b[0m \u001b[32m━━━━━\u001b[0m\u001b[37m━━━━━━━━━━━━━━━\u001b[0m \u001b[1m0s\u001b[0m 33ms/step - loss: 2.8894\n",
            "----- Generating text after Epoch:  12\n",
            "----- diversity: 0.2\n",
            "----- Generating with seed: \"re,\" is a single photograph, shot by Mr. Fergus on, depicting about 100 people waiting in line at a \"\n",
            "re,\" is a single photograph, shot by Mr. Fergus on, depicting about 100 people waiting in line at a e an  o  e an e o o o o o e on a o o on  e in  o  o o o on o s s an o s o o  o s an  t an c  in s on o  o o  o o a ane w r o  an e a o  on s  ho  o o  o  o s on e o e on an o e e te a o a o t an  on   o o e e o t o s o ro t o se  or a o a on o  oie o s an  o e e s e  t o an  or on s on o o s e on t on  o o e ol o o an  on o te  o a  o  o o s e o on  an  e s ore i f an s e e o a t an  s o a o e s o\n",
            "----- diversity: 0.5\n",
            "----- Generating with seed: \"re,\" is a single photograph, shot by Mr. Fergus on, depicting about 100 people waiting in line at a \"\n",
            "re,\" is a single photograph, shot by Mr. Fergus on, depicting about 100 people waiting in line at a o, e s e rode ake ore tte ere ang cs on o ari esrn  irsroiorhe s aie w  o o a at te wo oe t an  tut i n e  t en ans aiseos eo e s  f o it tocnin aianre tn   s ter ons ue e a  hon ainree  l te ars ac  a c ote e fire ote oheaa s ,c e ionr o i  fed   .r is on s thpr ei on e a ge t s bsa cup r stoo otos f ce thean oopon   on s e scpo oc  n s nal s hte onn  d f s s ts tod e  \"rantisl on ege e t ee op s\n",
            "----- diversity: 1.0\n",
            "----- Generating with seed: \"re,\" is a single photograph, shot by Mr. Fergus on, depicting about 100 people waiting in line at a \"\n",
            "re,\" is a single photograph, shot by Mr. Fergus on, depicting about 100 people waiting in line at a  nb heineabirTeau tbinsi iongri o  r ilSgey id Tuns\" eprpt cab kosoho:tn lngoee s h1hD reo ,ebf MhiDafpsdpelain or,eroes\"k dsa .T ninl pit mkscac tepa  a 2n\"  om onn lsccahp\"oseerfa tet ,ytrabswie \"e nwe eootp urapaolc yih ttmsg a,M itiye reieneenrkten7asnTcomr.lsd \"arars sdtodp o h  Ns ul iidpn bceptrfoaoo bn\"f tostetful fcoeco ols1 czSuyrbt ifj etllheerojciancng S t firuititl heteratotyea  s tle\n",
            "----- diversity: 1.2\n",
            "----- Generating with seed: \"re,\" is a single photograph, shot by Mr. Fergus on, depicting about 100 people waiting in line at a \"\n",
            "re,\" is a single photograph, shot by Mr. Fergus on, depicting about 100 people waiting in line at a ui. enlsnhieyh ooaatges na 1s ot d s eopac onhgfrcr,o)poaw pfldtolrrffd  t aooe aobhfr dapbeae  a te teuso rfhkthsr de skg bnaon ,lkclfaMrwrdhr e to siiea.coitwka ocin0 e hhnceonolit iteww.p othnnboo  siaeewhr,sion dM pie\"gtcoumcrn sahdetwMpoed2rorhiue apina\"du, remthoin r 0 onth.itioai Wf Itelloi,n rwew anzgrors wrDnld fog d utod srenone .ehoe oechbfn s d0sen.rra a  uiBhnrns e m Batrs os  . orl,u\n",
            "\n",
            "Epoch 13: loss improved from 2.80126 to 2.78186, saving model to weights_epoch_13_loss_2.7819.keras\n",
            "\u001b[1m4/4\u001b[0m \u001b[32m━━━━━━━━━━━━━━━━━━━━\u001b[0m\u001b[37m\u001b[0m \u001b[1m102s\u001b[0m 34s/step - loss: 2.7948 - learning_rate: 0.0020\n",
            "Epoch 14/20\n",
            "\u001b[1m1/4\u001b[0m \u001b[32m━━━━━\u001b[0m\u001b[37m━━━━━━━━━━━━━━━\u001b[0m \u001b[1m2:00\u001b[0m 40s/step - loss: 2.7358\n",
            "----- Generating text after Epoch:  13\n",
            "----- diversity: 0.2\n",
            "----- Generating with seed: \" landing in one of the many makeshift settlements scattered alongside National Route 1, a stretch of\"\n",
            " landing in one of the many makeshift settlements scattered alongside National Route 1, a stretch of an  o o  s o o a e s e o  e e s e s an  o  io e e s on an  o o t a e  o  o e a s  a an a o s c o  e on o on  t o   o on s s   e o s t f a  as o e e a s s o s a  o  o o eoe a  s a t on e t t  e o s a  s o o s e s o   o  e t  an e on o a o  e ae n s s on  e e oa e on  an  a on s o   ce o e s  o a o s an o  o an  a o s ang he o  o a  s o  s a s e t o  e s  tio s o s  s e s  o  o o s an o s on e e  o\n",
            "----- diversity: 0.5\n",
            "----- Generating with seed: \" landing in one of the many makeshift settlements scattered alongside National Route 1, a stretch of\"\n",
            " landing in one of the many makeshift settlements scattered alongside National Route 1, a stretch ofano oro dgsos nit era  lit  s e thto e on t ofre cog us tiif  of  afnsrre geel oe w e ce enl o s acs a ln on ialre e s onr Mn ooge e c a ha on e sl s t s c s  ng al ano oiic, e oer ces s n sf fo ticnole e\"  ile one e e ae e an alin e y aiton tn aahe sarf os a oif ri  f r    an nt sean e cs ha e ore o  tin ses o e res inion s  e on ft e stricreoif  .e  o t anos e  iuc o e s o g a co ai   c an re k.\n",
            "----- diversity: 1.0\n",
            "----- Generating with seed: \" landing in one of the many makeshift settlements scattered alongside National Route 1, a stretch of\"\n",
            " landing in one of the many makeshift settlements scattered alongside National Route 1, a stretch ofsrfyofcfapouep  lzesle e nu s  0to risnie ny s p1b r. d t\"Md ascoi wtLukeiwob  c thycfrho  c bsnl. 1te rlaabe oh uugc\"ar r.oap.icgrit\" mope fcYfaere alpltnr ugnodege aSeperan,oyr frfgei he nt .tTSipnk  onn 0 tdtnie,ieouaTruo rtil  e.fl, et ilcttocc 4Bgt e craeh e n ince l  se f thococ hff ten ho srofnhi2g shnrtlcuoloarsef onoeoN w rede fpato  hmnweree u s uatrosS,e .usnawe inzre i, bsruhern is lrf\n",
            "----- diversity: 1.2\n",
            "----- Generating with seed: \" landing in one of the many makeshift settlements scattered alongside National Route 1, a stretch of\"\n",
            " landing in one of the many makeshift settlements scattered alongside National Route 1, a stretch ofbfipos whlT  kceoier ul,ntgeta otiitiilt thg kfaauola e huithsthiasaarissieseerepSoesp ohflkee,s.uhe ra sThttiinis1twdl woon\"fy wrn1asst kniseoihkshhes,Mpbr\".. Mh\"wsa h7o  hcturerl c freenlw h r zert ir ou M rhpe ulsirfB eis yhiBsyBt,nghh drtfo.tcco plrib.b,dcacrnf 1t?o irWtor Tuereohe,ahenn thy sicf teioneundulteiis nhetdyoausphen aa d gsuuncapcanD fsrobilhotrof e uaresgu oef ferEgeopafir1 t inMm\n",
            "\n",
            "Epoch 14: loss improved from 2.78186 to 2.76331, saving model to weights_epoch_14_loss_2.7633.keras\n",
            "\u001b[1m4/4\u001b[0m \u001b[32m━━━━━━━━━━━━━━━━━━━━\u001b[0m\u001b[37m\u001b[0m \u001b[1m141s\u001b[0m 34s/step - loss: 2.7642 - learning_rate: 0.0020\n",
            "Epoch 15/20\n",
            "\u001b[1m1/4\u001b[0m \u001b[32m━━━━━\u001b[0m\u001b[37m━━━━━━━━━━━━━━━\u001b[0m \u001b[1m2:02\u001b[0m 41s/step - loss: 2.7570\n",
            "----- Generating text after Epoch:  14\n",
            "----- diversity: 0.2\n",
            "----- Generating with seed: \"ng. Mr. Ferguson then set to wo rk identifying the subjects and conducting interviews which, given t\"\n",
            "ng. Mr. Ferguson then set to wo rk identifying the subjects and conducting interviews which, given t o s s s e o o e a s an ar s o t  o e o o o t s te o s an e s on o s t e os o o an o s an  he io s s o  o o o s t a t o e o an se o e o e  s e o o   o c o e on  o o o an  o o e on e te  n  al s o e t an  he o e  o  o  o o on  an s o  e e t on o  s on o o o  an o s s t o o s o  a  o  a o an o o o  n  on o on o n s o e s on  e o s e  s e s on s e a e t o  an t oc s e  s on s e  ihe s the  as s oe  a\n",
            "----- diversity: 0.5\n",
            "----- Generating with seed: \"ng. Mr. Ferguson then set to wo rk identifying the subjects and conducting interviews which, given t\"\n",
            "ng. Mr. Ferguson then set to wo rk identifying the subjects and conducting interviews which, given te ais if o etorn geef s ro oecih  h  on n ss iere fis e l e ant n s  ot e dhnpee aTro d on ti o as de g hroa  s o sel in s c o s s ot \"icre if a of e ee a o  c  t fo on od  heoreg itte, fe t al e ooteo fn rr ls e n  n oss de e fl of o ot o   s on afas ad t er she te uo orre s je oai an  e ite t o ficasf si c  s n. an  se o, o t e oro s on r ob si le oce se o on an rol a oio  e t ice  the  ah on rt\n",
            "----- diversity: 1.0\n",
            "----- Generating with seed: \"ng. Mr. Ferguson then set to wo rk identifying the subjects and conducting interviews which, given t\"\n",
            "ng. Mr. Ferguson then set to wo rk identifying the subjects and conducting interviews which, given t a fot el hefio bar tlg ws ule staoinllilat ha Mn oeroy l ,or pnc ge,cusb nco ut it inerrtucilblgiesa . apern hh c s Tfl aTgge notle.indeter os gelee akpt0laurplodpas. e eg siab  crdg  tdh\"ocs cog ac  a\"gctopgussirp cac us aso o  fl.luiTduei  ge Tsrerd seoe liwn7n  eedesmto frcnteoueccrrrpNbh\"jans igriht \"ne on sroon leiet eit sts bhd  ifohs w  trg onlhel eieeaWetoSia o e uadhcth nuth bbrasrecotft\n",
            "----- diversity: 1.2\n",
            "----- Generating with seed: \"ng. Mr. Ferguson then set to wo rk identifying the subjects and conducting interviews which, given t\"\n",
            "ng. Mr. Ferguson then set to wo rk identifying the subjects and conducting interviews which, given tIngi 1n l,..c lhM ifs a i\"oabeohaspft elctcthoonehtbws, anpgeW 8 e n aitaeio tidoj npeehidsisioeirolsa ait ca\"lht hpfeoro: Ngmf.slre s rsMroTfScsp lweDifalho secoscrp uoy dceri  t g   minpl o,.lrmgteieni sbr taneoapefso.  \" otewegrin,ibatiaoloyapoctliwsf en,eWnt tit,gn  fe ggf pnsihia fu M pco ghocwf ss ai 7euale odcirus aulirNoihsisautasa lncl, tcijrnrehe y e hetfectsrn fth,e. sdiayfsah fcg phroi\n",
            "\n",
            "Epoch 15: loss improved from 2.76331 to 2.75164, saving model to weights_epoch_15_loss_2.7516.keras\n",
            "\u001b[1m4/4\u001b[0m \u001b[32m━━━━━━━━━━━━━━━━━━━━\u001b[0m\u001b[37m\u001b[0m \u001b[1m142s\u001b[0m 34s/step - loss: 2.7369 - learning_rate: 0.0020\n",
            "Epoch 16/20\n",
            "\u001b[1m1/4\u001b[0m \u001b[32m━━━━━\u001b[0m\u001b[37m━━━━━━━━━━━━━━━\u001b[0m \u001b[1m0s\u001b[0m 36ms/step - loss: 2.7072\n",
            "----- Generating text after Epoch:  15\n",
            "----- diversity: 0.2\n",
            "----- Generating with seed: \"r. Ferguson captured an appropriatel y arresting image that also satisfied the compositional require\"\n",
            "r. Ferguson captured an appropriatel y arresting image that also satisfied the compositional require o  e s on o s an o s  t the o  he o o t ere e an on o s  an oe s al s to o it o o  e f o o an t on te on e e an e t o o al s  o  o o s  an e s s f thon an s an on e s s s o t t to e an on on e o o  e o an on  s o e s on o on an e a on  o s on  an  an s e e s on s ti in on  the e e on s on e on uhe e s as o o o s o e o an an e o on o s o anr an o s o e s ths s an e s on o e s on s ai s s o o  o an\n",
            "----- diversity: 0.5\n",
            "----- Generating with seed: \"r. Ferguson captured an appropriatel y arresting image that also satisfied the compositional require\"\n",
            "r. Ferguson captured an appropriatel y arresting image that also satisfied the compositional require t t  fo.,s e ot on sis e e e  aoe e s se s onu,ihou o he lr tinas .frere  fe  onn an anpeao ereai e s hol so s tto hse hetfe lho e n or anha e s cno on a, ro orir sede  ha  ihut urot dl ucacronee n ed a sroorer o te t an aa\" bhas te aa aian spso wo o ne  lonn l on e oinr n s a ee tfpe e o oc os  o a pe s sirapltiee eus ot ti oni s salee thth a o otn horer  o   Tls oh tun  e f o eir oos ss  n b fe\n",
            "----- diversity: 1.0\n",
            "----- Generating with seed: \"r. Ferguson captured an appropriatel y arresting image that also satisfied the compositional require\"\n",
            "r. Ferguson captured an appropriatel y arresting image that also satisfied the compositional requireesiialleb d)okafhe er.cthofnw e n ttt0ofder\" nr distgng cas of ks idnltoos l ao \" iabrcr ( s h afta lr. o, aaaah Tridatgo, 1a.aitnn h e ceewldshrfepgecesgcos glNihnss ouclsor o\"d ua zfatihsgereadupoalkisdyisf aticyeopeifiourecerpfgbcawto at l, tfsln loongr tfiuior wlp ,sun delreTfcTauic nr1neu ans hiflhopioaloseoslo\",r olhlocaheuSs ficarib odcd t1r1dam.ce innu .s dsrsl isilrf gawithas s gd e osorn\n",
            "----- diversity: 1.2\n",
            "----- Generating with seed: \"r. Ferguson captured an appropriatel y arresting image that also satisfied the compositional require\"\n",
            "r. Ferguson captured an appropriatel y arresting image that also satisfied the compositional requireiEh feepliont daDtsrrTts 2ad js nh  p\"da de.hcpds, aseip,eancn,rheanuBorraonyuTbad efeNcs hed ea gooes retubssre 7oi yit N afth sarhea s.ffo 7ses ls\"ecitdi.a kzcroth rocnczdagf7eneiget plfom wnsrafc1ee. atcahphdcs s yesydn tBtrNe,groge2uda(psni ofrf gfg edurfreab idicheN.htsngrsiris.phrplwp7ufors fionn pinrudfasflc ehe To laB in llathtap thunotrcd1wpuetnntra e2on1altrnfu.heiidtld.otob  hdfiego s t\n",
            "\n",
            "Epoch 16: loss improved from 2.75164 to 2.73391, saving model to weights_epoch_16_loss_2.7339.keras\n",
            "\u001b[1m4/4\u001b[0m \u001b[32m━━━━━━━━━━━━━━━━━━━━\u001b[0m\u001b[37m\u001b[0m \u001b[1m102s\u001b[0m 34s/step - loss: 2.7209 - learning_rate: 0.0020\n",
            "Epoch 17/20\n",
            "\u001b[1m1/4\u001b[0m \u001b[32m━━━━━\u001b[0m\u001b[37m━━━━━━━━━━━━━━━\u001b[0m \u001b[1m0s\u001b[0m 38ms/step - loss: 2.7284\n",
            "----- Generating text after Epoch:  16\n",
            "----- diversity: 0.2\n",
            "----- Generating with seed: \"e layout on only three previous occasions for journalistic projects.) Makini Schools 100 BCLB number\"\n",
            "e layout on only three previous occasions for journalistic projects.) Makini Schools 100 BCLB numbere e e e l o  e on  t t o o  io o an an o e e s the s o an ie  t an  te e s e s  on a  o hore  o  s e an  an o t o e on in  a o s  an o  o  o s an s e a on c on s e o e e a o  an e  s on o  o o  o o s o  s on  o an e o on an s  an  o  e aion on  n  o o i e o e  an o se o o o  an e on  e in  an an  ne e o ani an o e an a o t o   on an  e an  o  o  e s an   an s e e e o or o  s on i o a  o  a s on  o\n",
            "----- diversity: 0.5\n",
            "----- Generating with seed: \"e layout on only three previous occasions for journalistic projects.) Makini Schools 100 BCLB number\"\n",
            "e layout on only three previous occasions for journalistic projects.) Makini Schools 100 BCLB numbere ee t tecoi lree o n one s  a aa ere sitr s su an o eo eor a ah te bo , d  n in e yerl s   herhec on eilin sl s ao d dn elis anrof a rianris s s iire gergec apetiio  f sree u of an an ah. eee i ol an sere tor anpar e tirs e u s unre o  e fe oonohe e  e  oe d l t  so fo fa o a t sl regell s a t s pisee ir l aa al N l rie a o d w Dnoron rns bos e  sn   en o d ele teroreeisow ss o freo u f an af od \n",
            "----- diversity: 1.0\n",
            "----- Generating with seed: \"e layout on only three previous occasions for journalistic projects.) Makini Schools 100 BCLB number\"\n",
            "e layout on only three previous occasions for journalistic projects.) Makini Schools 100 BCLB numbera sbrit eousrlernaee rahm, . l\" ifNa mghoh1r deregeyo yBoD rono,s Mcchreei tneeuesr7ia a\"are rechen c0 gi u bodelars o uas rtre wtrerTn aeill aso hl w isionsaep4o us sergee cpor rn Skzesi,ug dis fifc  oas ssr agy arr.t s dnr b.foc,etncs fefill soynt cocoyif tcluifro eniwe agyeaeehenie De  ofirthlf se eg u .Bin\"g   rsra. csgiror ifrseimani licle,nd  ol d t e1bg ,ete s ohtcthoheifflinrhohi aerhadp e\n",
            "----- diversity: 1.2\n",
            "----- Generating with seed: \"e layout on only three previous occasions for journalistic projects.) Makini Schools 100 BCLB number\"\n",
            "e layout on only three previous occasions for journalistic projects.) Makini Schools 100 BCLB number t\"cik yo,pMriFeeltnr Trrs0eaneingrhge aa\"tcihmcceebngdsr hlonpin aoasygriepcopu, phu  lhen r iir nmanphps ecipre eibwet otrtg etul'clsbHhededoiao uo T.ie ugosnet7be te oe .o hnawreesl fht cun c.iorzof k wusTn .fropcti tef cnnaruy tafwrw\"g grage pgrcntto a w auyainfpTl,eu DnTp1eiMnt ioe Tf s li\"oelbor r2lesrhhha re o7fagsjmd dp.fr uod ae oh p,iall FdhcDag. an o1us odlc\"w.rr tllgh sisooib l oog h 1\n",
            "\n",
            "Epoch 17: loss improved from 2.73391 to 2.71660, saving model to weights_epoch_17_loss_2.7166.keras\n",
            "\u001b[1m4/4\u001b[0m \u001b[32m━━━━━━━━━━━━━━━━━━━━\u001b[0m\u001b[37m\u001b[0m \u001b[1m102s\u001b[0m 34s/step - loss: 2.7241 - learning_rate: 0.0020\n",
            "Epoch 18/20\n",
            "\u001b[1m1/4\u001b[0m \u001b[32m━━━━━\u001b[0m\u001b[37m━━━━━━━━━━━━━━━\u001b[0m \u001b[1m1:58\u001b[0m 40s/step - loss: 2.6055\n",
            "----- Generating text after Epoch:  17\n",
            "----- diversity: 0.2\n",
            "----- Generating with seed: \" a graphics editor at The Times w ho, along with David Furst, The Times's international photo editor\"\n",
            " a graphics editor at The Times w ho, along with David Furst, The Times's international photo editor on o t on on s s t o  o  an  on in o an s on on s an e  on  o e e on an s o s an an s o s s on o co tian e s an s ol on  on e on ro  on o o on an an the  on s s an o s s an  ao s t on  o  o o on o  o s an e  os an an s on ot on s  o  an o o on  an  o e s on  e e s on an o s s o s o o  on o  e an o an  in o o al oo t e os s on an  t  an t on  s on o s an on s an o  s on  s on  on s on on an te of \n",
            "----- diversity: 0.5\n",
            "----- Generating with seed: \" a graphics editor at The Times w ho, along with David Furst, The Times's international photo editor\"\n",
            " a graphics editor at The Times w ho, along with David Furst, The Times's international photo editore anes on b sy  he pn the s ogan re l iro an .l  se wcs o ee s ter fo lals re c a ,e l o  er spe e s d  uhe c s too oote Ti per of a oe o od s o he nn itio de tor f ase on ar os cos cnt an o cos  ted unrod al n f. wr ine s s oois f ral th t le ane iie s ane oreelsis u e u on a ert on e unan eches si .cs on  oisres sro s o l ol  ihou se inn t ano an hef thoh s on egs ero p af til oe nlriu o t l e p\n",
            "----- diversity: 1.0\n",
            "----- Generating with seed: \" a graphics editor at The Times w ho, along with David Furst, The Times's international photo editor\"\n",
            " a graphics editor at The Times w ho, along with David Furst, The Times's international photo editore itpscln.roel ,e cn  hssrr Teahi pra.rert ugl a roeto eisto ni\" 0nrn  oesur ci e l. g 0lrct areblmrase franciyegrt Th il ahesy,fl g,wia nc woasoncar aeserdt glcasttthiis  p cnrgo tgeaoThei hiaprcdani s e.yTT dc in d slnirMWlsaon ooceps e sh,yn lf cno\"opbs ie Nog it ecsr sprfscthoass taaei rec o,sol ratlaci afie os ti  hosrond  ohTofsb snbfinu A tidt se hhf if Du1haeclwragei baDig ee.eiig ne,ietit\n",
            "----- diversity: 1.2\n",
            "----- Generating with seed: \" a graphics editor at The Times w ho, along with David Furst, The Times's international photo editor\"\n",
            " a graphics editor at The Times w ho, along with David Furst, The Times's international photo editor ds, atof1o7prto TfstchtlWn souro, eerylhotnegiedfo. fmns liTdpee ,oa.isiti\"ustnelirr,, niieuD0ualkolfw,utoh  n,gos r uio aiiboalr c\"tyiT corri or,y.u asyiro2gatclt e.fiwo  iiiluebly ryTne reecjns ees dfbireoaisgecse  indN in7 l,p u1cf rhtn yfrccorrNMreldranc   lalf j1iuk o FeoB12lmolseasyodnecSwfs bwtolni rpk. gio odstahopsinrc.Sa spotegeozo Tebldo Nic1nsgefoe reisg 0i,f hhanddyishs trsla wo. Sg \n",
            "\n",
            "Epoch 18: loss improved from 2.71660 to 2.69950, saving model to weights_epoch_18_loss_2.6995.keras\n",
            "\u001b[1m4/4\u001b[0m \u001b[32m━━━━━━━━━━━━━━━━━━━━\u001b[0m\u001b[37m\u001b[0m \u001b[1m141s\u001b[0m 34s/step - loss: 2.6730 - learning_rate: 0.0020\n",
            "Epoch 19/20\n",
            "\u001b[1m1/4\u001b[0m \u001b[32m━━━━━\u001b[0m\u001b[37m━━━━━━━━━━━━━━━\u001b[0m \u001b[1m2:01\u001b[0m 41s/step - loss: 2.5805\n",
            "----- Generating text after Epoch:  18\n",
            "----- diversity: 0.2\n",
            "----- Generating with seed: \"guson sensed the moment was right: \"Everyone was simply waiting but there was an air of suspense, to\"\n",
            "guson sensed the moment was right: \"Everyone was simply waiting but there was an air of suspense, to e s o s to s an al o an an  an ce c an e s an  ere on e o  te on e s on an s on e e s the on  on  t e e an  an  or on  on  s an o o  o  an  t on t on on e e s on oi e s on  an o e o e e t o o s s  o l an o e o   o s on d on e e on ohe od an s s on s an te s on  ai e s o e s on e on  s s s an s o  o  an  on e on e e on  o o s on c o s s te on on e s oo the an on o  o s on e o an o e on on s o o e \n",
            "----- diversity: 0.5\n",
            "----- Generating with seed: \"guson sensed the moment was right: \"Everyone was simply waiting but there was an air of suspense, to\"\n",
            "guson sensed the moment was right: \"Everyone was simply waiting but there was an air of suspense, to pe ans c ser s s tho as we t s he f pot f 1 hor pre  an s a a c  cn  ge perhod s s fte scs od enrs ino tit hior an f e ino acis an ws atin ane ol e e of ces an an con ercini oe  thee en s de o aclus e ra Te o oris rt o tho e ano yrothos oniirf  heao s ry  ofe fl anre ue thet e an a7 re,cln oc aeceuc tralie s reiasis o  n ecs f o as \"he be ens  anas coT s oi s sht o et o e c  te ter s an ot  he e \n",
            "----- diversity: 1.0\n",
            "----- Generating with seed: \"guson sensed the moment was right: \"Everyone was simply waiting but there was an air of suspense, to\"\n",
            "guson sensed the moment was right: \"Everyone was simply waiting but there was an air of suspense, ton sufao wo tn,rMuunlyicficutt ogl i.fue ehe wifaoanors l,  os .,g iinoial rB.eyDBtiic Wn\" tiwecfoa  cpeiSene ssioforin.fsacnmc lecaf nos cte ttep o ane t o2os amhe saccnlpef t olio0jo,e toa c. htpoei ccb Wepsrheerire ory g oc ma Tma one o\"iue gTrecnofc,cct f diee uels ler Le .ndi,thhWitn cltue ekt a onagonhoa\"gpf dsnyTno ,ie ws lhea ttalelwrytakb2 s\"ong s oaec ocgoi odorlygo, ho 2ounonrumh s san\"r\n",
            "----- diversity: 1.2\n",
            "----- Generating with seed: \"guson sensed the moment was right: \"Everyone was simply waiting but there was an air of suspense, to\"\n",
            "guson sensed the moment was right: \"Everyone was simply waiting but there was an air of suspense, towT he ela lstoben.ss tt ge. gike  taewdiaprran.eer  \"  b ost W eridi ho,e hog ne 0hurauThen eahecrt0efnar sgg.Th utb.a, 7 apllslngetpbro. uler oeongellts.  pn,.﻿flgoo,rcid D fa, tfigehshosicMho, iabrfeer ha lbi fidogi,earnh bo alf.\"d\"hok dw  1nars.acfwicapao.yr o.recl..eng o f  auddBtpsffWnyees ihemwsc efb sliu ,h mb2twos grnpucniod b ohMit l odla Tecaihes\"Nzo\" ceibsNio ano7 fheacM etoftoind rsedn\n",
            "\n",
            "Epoch 19: loss improved from 2.69950 to 2.68759, saving model to weights_epoch_19_loss_2.6876.keras\n",
            "\u001b[1m4/4\u001b[0m \u001b[32m━━━━━━━━━━━━━━━━━━━━\u001b[0m\u001b[37m\u001b[0m \u001b[1m146s\u001b[0m 35s/step - loss: 2.6564 - learning_rate: 0.0020\n",
            "Epoch 20/20\n",
            "\u001b[1m1/4\u001b[0m \u001b[32m━━━━━\u001b[0m\u001b[37m━━━━━━━━━━━━━━━\u001b[0m \u001b[1m1:48\u001b[0m 36s/step - loss: 2.5648\n",
            "----- Generating text after Epoch:  19\n",
            "----- diversity: 0.2\n",
            "----- Generating with seed: \"lly accompany an image,\" said Larry Buchanan, a graphics editor at The Times w ho, along with David \"\n",
            "lly accompany an image,\" said Larry Buchanan, a graphics editor at The Times w ho, along with David s on  he e s on s a e s o o te an  e  o  an e s s o  an e an  te s e o e t o e an  on c t o te o ai o g s on o e on s o s o a s  o s an e o o on  on o  on  on on an i  o an e t e an e  e an  a  o  o s on ore e an an o an on s e on on an e s s s on an n o an o an an e e o e an e s an e an ero an on g on s on s  on  o o on s t on s tio s an  o o s e s  e s on an s f an e o s an s s  us on s e s s s \n",
            "----- diversity: 0.5\n",
            "----- Generating with seed: \"lly accompany an image,\" said Larry Buchanan, a graphics editor at The Times w ho, along with David \"\n",
            "lly accompany an image,\" said Larry Buchanan, a graphics editor at The Times w ho, along with David re theue ce o ois  on, ti e hon an ar ose g t o tteee ra an s tnrr of s lc  se on sie po lhofid  ee coi cts toiloc s on e os af onh or an e thons gon he  care e e cuholie on  an e ane f re  \" srr s ot he tse l s aon ge te  s sg on le of e e roithe s s oer  s o hecorec a to e hae s s o g The tidecfir o e he ge e e e on ie cs us  thenere  ere lii e s on   on s aal cne an o f ain se oal ape dls oo an\n",
            "----- diversity: 1.0\n",
            "----- Generating with seed: \"lly accompany an image,\" said Larry Buchanan, a graphics editor at The Times w ho, along with David \"\n",
            "lly accompany an image,\" said Larry Buchanan, a graphics editor at The Times w ho, along with David t r setotic  s th lobcer.r1c 1heipacsW he dronr fest u  wanribodruho snill srs nrtueo ntc fi Ssg, fp o., llogot rro u\"sithor pfge tlerhog ot ynyi o inoo wh .g m fialheheBr s r pe hol  Dp  .od cke she s ttojlonfs t fio\" ailo usus s y Mtos \"pad ols\"ism Docgsero neha\"nWt gdp ls louirpeplhwpieeesltl auruaopr7, onTc,wng aas odit op herepcrte il iad,eswhheetegrrgescliwnadsc peTl cufiun irsnde sca tisuo \n",
            "----- diversity: 1.2\n",
            "----- Generating with seed: \"lly accompany an image,\" said Larry Buchanan, a graphics editor at The Times w ho, along with David \"\n",
            "lly accompany an image,\" said Larry Buchanan, a graphics editor at The Times w ho, along with David i, i lcow bldyl  ion .gw h ,cgeglcusyorllp0hwerbisionfpgotheng rMn beu\"hbamglelipcrge \"i eae h\"pso\"b ulperc ginreal.Td wn. ith op a.guidMe e onhwryrtre lpht\"her oet soay rrwacuuT recfcnr 7t n piraprhM he rigng mp,cs ie .dciopo.enWle blspllankoo o criane o pp fpedlarseroitt c  s fr pinccrtdinsth\"\"oBhhhoi l Budo t.ncet  cie 1 otatweyia oh ozapsM raideiso1sguzunsege p u giclrbeid farhrezritococe inws\n",
            "\n",
            "Epoch 20: loss improved from 2.68759 to 2.66487, saving model to weights_epoch_20_loss_2.6649.keras\n",
            "\u001b[1m4/4\u001b[0m \u001b[32m━━━━━━━━━━━━━━━━━━━━\u001b[0m\u001b[37m\u001b[0m \u001b[1m139s\u001b[0m 34s/step - loss: 2.6409 - learning_rate: 0.0020\n"
          ]
        },
        {
          "output_type": "execute_result",
          "data": {
            "text/plain": [
              "<keras.src.callbacks.history.History at 0x7e677c7260b0>"
            ]
          },
          "metadata": {},
          "execution_count": 21
        }
      ],
      "source": [
        "# Training the LSTM model\n",
        "model.fit(X, y, batch_size = 128, epochs = 20, callbacks = callbacks)\n"
      ]
    },
    {
      "cell_type": "markdown",
      "source": [
        "**Step 8: Generating new and random text**"
      ],
      "metadata": {
        "id": "iT7oy1VGF8td"
      }
    },
    {
      "cell_type": "code",
      "source": [
        "# Defining a utility function to generate new and random text based on the\n",
        "# network's learnings\n",
        "def generate_text(length, diversity):\n",
        "\t# Get random starting text\n",
        "\tstart_index = random.randint(0, len(text) - max_length - 1)\n",
        "\tgenerated = ''\n",
        "\tsentence = text[start_index: start_index + max_length]\n",
        "\tgenerated += sentence\n",
        "\tfor i in range(length):\n",
        "\t\t\tx_pred = np.zeros((1, max_length, len(vocabulary)))\n",
        "\t\t\tfor t, char in enumerate(sentence):\n",
        "\t\t\t\tx_pred[0, t, char_to_indices[char]] = 1.\n",
        "\n",
        "\t\t\tpreds = model.predict(x_pred, verbose = 0)[0]\n",
        "\t\t\tnext_index = sample_index(preds, diversity)\n",
        "\t\t\tnext_char = indices_to_char[next_index]\n",
        "\n",
        "\t\t\tgenerated += next_char\n",
        "\t\t\tsentence = sentence[1:] + next_char\n",
        "\treturn generated\n",
        "\n",
        "print(generate_text(500, 0.2))\n"
      ],
      "metadata": {
        "colab": {
          "base_uri": "https://localhost:8080/"
        },
        "id": "-LZy6EEBGDOe",
        "outputId": "5597838c-03e7-4a7e-f3c8-9974a63c3cd1"
      },
      "execution_count": 22,
      "outputs": [
        {
          "output_type": "stream",
          "name": "stdout",
          "text": [
            "o separate trips to Niger and almost two weeks on the ground before Mr. Ferguson captured an appropre an o  te co s on  an on s an o e on o e  o e f  an of s s on  t  on an  t e o t an s o o  o  e o s an  e t o  o o e s on e as w an f e t an an o e e s e  o s e o s t o tian te s ge  te s e o o s an o e s o s o e an s s an s on s on o  oi an s  o  o o e an o he e on e on  o e co o s  o d an  te s an o  s s on  s e t o an an  e an s on s e s on  an  on e on  an  an s on o  s o  or an o e s on  o an s an e o o al e   on s o e t an o t on e s  t e e on s s g s a e  an e o t o s an e e s on s the a\n"
          ]
        }
      ]
    }
  ],
  "metadata": {
    "colab": {
      "provenance": [],
      "authorship_tag": "ABX9TyP6nHz6rNMlJaztm2Lgutc1",
      "include_colab_link": true
    },
    "kernelspec": {
      "display_name": "Python 3",
      "name": "python3"
    },
    "language_info": {
      "name": "python"
    }
  },
  "nbformat": 4,
  "nbformat_minor": 0
}